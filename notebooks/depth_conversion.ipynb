{
 "cells": [
  {
   "cell_type": "code",
   "execution_count": 2,
   "metadata": {},
   "outputs": [],
   "source": [
    "import numpy as np\n",
    "import cv2\n",
    "import matplotlib.pyplot as plt\n",
    "%matplotlib inline"
   ]
  },
  {
   "cell_type": "code",
   "execution_count": 3,
   "metadata": {},
   "outputs": [
    {
     "name": "stdout",
     "output_type": "stream",
     "text": [
      "421.9312744140625\n"
     ]
    },
    {
     "ename": "error",
     "evalue": "OpenCV(4.9.0) :-1: error: (-5:Bad argument) in function 'drawMatchesKnn'\n> Overload resolution failed:\n>  - drawMatchesKnn() missing required argument 'outImg' (pos 6)\n>  - drawMatchesKnn() missing required argument 'outImg' (pos 6)\n",
     "output_type": "error",
     "traceback": [
      "\u001b[1;31m---------------------------------------------------------------------------\u001b[0m",
      "\u001b[1;31merror\u001b[0m                                     Traceback (most recent call last)",
      "Cell \u001b[1;32mIn[3], line 26\u001b[0m\n\u001b[0;32m     22\u001b[0m \u001b[38;5;66;03m# draw_params = dict(matchColor = (0,255,0),\u001b[39;00m\n\u001b[0;32m     23\u001b[0m \u001b[38;5;66;03m#  singlePointColor = (255,0,0),\u001b[39;00m\n\u001b[0;32m     24\u001b[0m \u001b[38;5;66;03m#  flags = cv2.DrawMatchesFlags_DEFAULT)\u001b[39;00m\n\u001b[0;32m     25\u001b[0m matches \u001b[38;5;241m=\u001b[39m matches[\u001b[38;5;241m0\u001b[39m:\u001b[38;5;241m15\u001b[39m]\n\u001b[1;32m---> 26\u001b[0m img3 \u001b[38;5;241m=\u001b[39m \u001b[43mcv2\u001b[49m\u001b[38;5;241;43m.\u001b[39;49m\u001b[43mdrawMatchesKnn\u001b[49m\u001b[43m(\u001b[49m\u001b[43mimg1\u001b[49m\u001b[43m,\u001b[49m\u001b[43mkp1\u001b[49m\u001b[43m,\u001b[49m\u001b[43mimg2\u001b[49m\u001b[43m,\u001b[49m\u001b[43mkp2\u001b[49m\u001b[43m,\u001b[49m\u001b[43mmatches\u001b[49m\u001b[43m)\u001b[49m\n\u001b[0;32m     27\u001b[0m plt\u001b[38;5;241m.\u001b[39mimshow(img3,),plt\u001b[38;5;241m.\u001b[39mshow()\n",
      "\u001b[1;31merror\u001b[0m: OpenCV(4.9.0) :-1: error: (-5:Bad argument) in function 'drawMatchesKnn'\n> Overload resolution failed:\n>  - drawMatchesKnn() missing required argument 'outImg' (pos 6)\n>  - drawMatchesKnn() missing required argument 'outImg' (pos 6)\n"
     ]
    }
   ],
   "source": [
    "img1 = cv2.imread('frame000000.jpg',cv2.IMREAD_GRAYSCALE) # queryImage\n",
    "img2 = cv2.imread('frame000020.jpg',cv2.IMREAD_GRAYSCALE) # trainImage\n",
    "# Initiate SIFT detector\n",
    "sift = cv2.SIFT_create()\n",
    "# find the keypoints and descriptors with SIFT\n",
    "kp1, des1 = sift.detectAndCompute(img1,None)\n",
    "kp2, des2 = sift.detectAndCompute(img2,None)\n",
    "# FLANN parameters\n",
    "FLANN_INDEX_KDTREE = 1\n",
    "index_params = dict(algorithm = FLANN_INDEX_KDTREE, trees = 5)\n",
    "search_params = dict(checks=50) # or pass empty dictionary\n",
    "flann = cv2.FlannBasedMatcher(index_params,search_params)\n",
    "matches = flann.knnMatch(des1,des2,k=2)\n",
    "# Need to draw only good matches, so create a mask\n",
    "# matchesMask = [[0,0] for i in range(len(matches))]\n",
    "# # ratio test as per Lowe's paper\n",
    "# for i,(m,n) in enumerate(matches):\n",
    "#  if m.distance < 0.10*n.distance:\n",
    "#     matchesMask[i]=[1,0]\n",
    "print(matches[0][1].distance)\n",
    "matches=sorted(matches, key= lambda x:x[0][0].distance)\n",
    "# draw_params = dict(matchColor = (0,255,0),\n",
    "#  singlePointColor = (255,0,0),\n",
    "#  flags = cv2.DrawMatchesFlags_DEFAULT)\n",
    "matches = matches[0:15]\n",
    "img3 = cv2.drawMatchesKnn(img1,kp1,img2,kp2,matches)\n",
    "plt.imshow(img3,),plt.show()"
   ]
  },
  {
   "cell_type": "code",
   "execution_count": null,
   "metadata": {},
   "outputs": [],
   "source": [
    "list_kp1 = []\n",
    "list_kp2 = []\n",
    "for mat in matches:\n",
    "\n",
    "    # Get the matching keypoints for each of the images\n",
    "    img1_idx = mat[0].queryIdx\n",
    "    img2_idx = mat[0].trainIdx\n",
    "\n",
    "    # x - columns\n",
    "    # y - rows\n",
    "    # Get the coordinates\n",
    "    (x1, y1) = kp1[img1_idx].pt\n",
    "    (x2, y2) = kp2[img2_idx].pt\n",
    "\n",
    "    # Append to each list\n",
    "    list_kp1.append((x1, y1))\n",
    "    list_kp2.append((x2, y2))\n",
    "\n",
    "print(list_kp1, list_kp2)"
   ]
  }
 ],
 "metadata": {
  "kernelspec": {
   "display_name": "Python 3",
   "language": "python",
   "name": "python3"
  },
  "language_info": {
   "codemirror_mode": {
    "name": "ipython",
    "version": 3
   },
   "file_extension": ".py",
   "mimetype": "text/x-python",
   "name": "python",
   "nbconvert_exporter": "python",
   "pygments_lexer": "ipython3",
   "version": "3.8.10"
  }
 },
 "nbformat": 4,
 "nbformat_minor": 2
}
